{
  "cells": [
    {
      "cell_type": "markdown",
      "metadata": {
        "id": "PcODPaSAJgR3"
      },
      "source": [
        "<a href=\"https://colab.research.google.com/github/mirsazzathossain/CSE317-Lab/blob/autumn_2022/Lab_Assignment_03.ipynb\" target=\"_parent\"><img src=\"https://colab.research.google.com/assets/colab-badge.svg\" alt=\"Open In Colab\"/></a>"
      ]
    },
    {
      "cell_type": "markdown",
      "metadata": {
        "id": "eLnB3JZXJgR5"
      },
      "source": [
        "#### **Wheat Seed Classification**\n",
        "\n",
        "In this assignment, you will use the [Wheat Seed Dataset](https://archive.ics.uci.edu/ml/datasets/seeds) to classify the type of wheat seed based on the measurements of the seed. The dataset contains 7 attributes and 210 instances. The attributes are:\n",
        "\n",
        "1. Area\n",
        "2. Compactness\n",
        "3. Perimeter\n",
        "4. Length of Kernel\n",
        "5. Width of Kernel\n",
        "6. Asymmetry Coefficient\n",
        "7. Length of Kernel Groove\n",
        "\n",
        "Based on the attributes, the dataset contains 3 classes:\n",
        "\n",
        "1. Rosa\n",
        "2. Kama\n",
        "3. Canadian\n",
        "\n",
        "The text file `seeds_dataset.txt` contains the dataset. The first 7 columns are the attributes and the last column is the class label. The class labels are encoded as  1, 2, and 3 for Rosa, Kama and Canadian, respectively. The goal of this assignment is to build a classifier that can predict the type of wheat seed based on the measurements of the seed. Follow the instructions below to complete the assignment."
      ]
    },
    {
      "cell_type": "markdown",
      "metadata": {
        "id": "Fb1CJ-KZJgR6"
      },
      "source": [
        "#### **Instructions**\n",
        "\n",
        "1. Download the dataset from [Github](https://minhaskamal.github.io/DownGit/#/home?url=https://github.com/mirsazzathossain/CSE317-Lab-Numerical-Methods/blob/main/datasets/seeds_dataset.txt). It should be saved as `seeds_dataset.txt`.\n",
        "2. Upload the dataset to your Google Drive and mount your Google Drive to Colab.\n",
        "3. Read the dataset using numpy's built-in function `np.genfromtxt()`. Pass the following parameters to the function:\n",
        "    - `fname`: The path to the dataset\n",
        "    - `delimiter`: The delimiter used in the dataset to separate the attributes (Hint: Use `'\\t'` as the delimiter)\n",
        "    \n",
        "    \n",
        "4. Shuffle the dataset using `np.random.shuffle()`. Pass the following parameters to the function:\n",
        "    - `x`: The dataset\n",
        "5. Split the dataset into features and labels. The first 7 columns of the dataset are the features and the last column is the label. Use numpy's array slicing to split the dataset into features and labels. (Hint: Use `:` to select all the rows and `0:7` to select the first 7 columns for features and `7` to select the last column for labels)\n",
        "6. Split the dataset into training and testing sets. Use numpy's built-in function `np.split()` to split the dataset into training and testing sets. Pass the following parameters to the function:\n",
        "    - `ary`: The dataset\n",
        "    - `indices_or_sections`: The number of instances in the training set (Hint: Use `int(0.8 * len(dataset))` to get the number of instances in the training set)\n",
        "    - `axis`: The axis to split the dataset (Hint: Use `0` to split the dataset along the rows)\n",
        "7. Find the minimum and maximum values of each feature in the training set. Use numpy's built-in function `np.min()` and `np.max()` to find the minimum and maximum values of each feature in the training set. Pass the following parameters to the function:\n",
        "    - `a`: The training set\n",
        "    - `axis`: The axis to find the minimum and maximum values (Hint: Use `0` to find the minimum and maximum values along the columns)\n",
        "8. In this step, you must normalize the training and test sets. Nomalization is an essential part of every machine learning project. It is used to bring all the features to the same scale. If the features are not normalized, the higher-valued features will outnumber the lower-valued ones.\n",
        "\n",
        "    For example, suppose we have a dataset with two features: the number of bedrooms in a house and the size of the garden in square feet and we are trying to forecast the rent of the residence. If the features are not normalized, the feature with higher values will take precedence over the feature with lower values. In this scenario, the garden area has a greater value. As a result, the model will make an attempt to forecast the house's price depending on the size of the garden. As a consequence, the model will be faulty since most individuals will not pay higher rent for more garden area. We need to normalize the features in order to prevent this. Let's look at the following illustration to better comprehend what we have said:\n",
        "    \n",
        "    - House 1: 4 bedrooms, 2500 sq. ft. garden\n",
        "    - House 2: 3 bedrooms, 900 sq. ft. garden\n",
        "    - House 3: 7 bedrooms, 2200 sq. ft. garden\n",
        "\n",
        "    Considering that most people won't pay more for a larger garden, it follows that the rent for House 1 should be more comparable to House 2 than to House 3. However, if we give the aforementioned data to a k-NN classifier without normalization, it will compute the euclidean distance between the test and training examples and pick the class of the test instance based on the class of the closest training instance.\n",
        "\n",
        "    The euclidean distance between the test instance and the training instances will be:\n",
        "\n",
        "    - Distance between house 1 and house 2: $\\sqrt{(4-3)^2 + (2500-900)^2} = 1600$\n",
        "    - Distance between house 1 and house 3: $\\sqrt{(4-7)^2 + (2500-2200)^2} = 303$\n",
        "\n",
        "    As you can see, the distance between houses 1 and 3 is shorter than that between houses 1 and 2. As a result, the model will forecast that house 1 will cost around the same as house 3. This is not what was anticipated. We need to normalize the features in order to prevent this. To normalize the features, subtract the minimum value of each feature from all the values of that feature and divide the result by the range of the feature. The range of a feature is the difference between the maximum and minimum values of that feature. The formula for normalization is given below:\n",
        "\n",
        "    $$x_{normalized} = \\frac{x - min(x)}{max(x) - min(x)}$$\n",
        "\n",
        "    where $x$ is the feature vector. The above formula will normalize the features to a scale of 0 to 1.\n",
        "\n",
        "    Let's normalize the features in the above example. To do so, we need to find the minimum and maximum values of each feature. The minimum and maximum values of the number of bedrooms are 3 and 7, respectively. The minimum and maximum values of the garden area are 900 and 2500, respectively. The normalized values of the features are given below:\n",
        "\n",
        "    - House 1: $(4 - 3) / 4.67 = 0.21$ bedrooms, $(2500 - 900) / 1866.67 = 0.86$ sq. ft. garden\n",
        "    - House 2: $(3 - 3) / 4.67 = 0$ bedrooms, $(900 - 900) / 1866.67 = 0$ sq. ft. garden\n",
        "    - House 3: $(7 - 3) / 4.67 = 0.86$ bedrooms, $(2300 - 900) / 1866.67 = 0.75$ sq. ft. garden\n",
        "\n",
        "    Now, the euclidean distance between the test instance and the training instances will be:\n",
        "\n",
        "    - Distance between house 1 and house 2: $\\sqrt{(0.21-0)^2 + (0.86-0)^2} = 0.78$\n",
        "    - Distance between house 1 and house 3: $\\sqrt{(0.21-0.86)^2 + (0.86-0.75)^2} = 0.43$\n",
        "\n",
        "    As you can see now, the distance between houses 1 and 2 is shorter than that between houses 1 and 3. The model will thus forecast that house 1 will cost about the same as house 2, according to the prediction. This is what is anticipated. This is what normalization does. It equalizes the scale of all features. This is important because it prevents the features with higher values from dominating the features with lower values.\n",
        "\n",
        "    Use the minimum and maximum values you found in the previous step to normalize the training and test sets.\n",
        "9. Now, you have to build a classifier to classify the type of wheat seed based on the measurements of the seed. Use the K-Nearest Neighbors algorithm to build the classifier. Use the Euclidean distance to find the nearest neighbors.\n",
        "\n",
        "10. Output the number of data points in the testing set and the number of correct predictions made by the classifier for each class."
      ]
    },
    {
      "cell_type": "code",
      "execution_count": 1,
      "metadata": {},
      "outputs": [
        {
          "name": "stdout",
          "output_type": "stream",
          "text": [
            "Number of data points in the testing set: 42\n",
            "Number of correct predictions for class 1: 13\n",
            "Number of correct predictions for class 2: 12\n",
            "Number of correct predictions for class 3: 11\n"
          ]
        }
      ],
      "source": [
        "# 3. Read the dataset using numpy's built-in function np.genfromtxt()\n",
        "import numpy as np\n",
        "\n",
        "dataset_path = \"/content/drive/MyDrive/seeds_dataset.txt\"\n",
        "delimiter = '\\t'\n",
        "dataset = np.genfromtxt(dataset_path, delimiter=delimiter)\n",
        "\n",
        "# 4. Shuffle the dataset\n",
        "np.random.shuffle(dataset)\n",
        "\n",
        "# 5. Split the dataset into features and labels\n",
        "X = dataset[:, 0:7]  # Features\n",
        "y = dataset[:, 7]     # Labels\n",
        "\n",
        "# 6. Split the dataset into training and testing sets\n",
        "train_size = int(0.8 * len(dataset))\n",
        "X_train, X_test = np.split(X, [train_size])\n",
        "y_train, y_test = np.split(y, [train_size])\n",
        "\n",
        "# 7. Find the minimum and maximum values of each feature in the training set\n",
        "min_values = np.min(X_train, axis=0)\n",
        "max_values = np.max(X_train, axis=0)\n",
        "\n",
        "# 8. Normalize the training and test sets\n",
        "X_train_normalized = (X_train - min_values) / (max_values - min_values)\n",
        "X_test_normalized = (X_test - min_values) / (max_values - min_values)\n",
        "\n",
        "# 9. Build the KNN classifier with automatic selection of optimal 'k'\n",
        "from sklearn.neighbors import KNeighborsClassifier\n",
        "from sklearn.model_selection import cross_val_score\n",
        "\n",
        "k_values = list(range(1, 21))  # Consider k values from 1 to 20\n",
        "cv_scores = []\n",
        "\n",
        "for k in k_values:\n",
        "    knn = KNeighborsClassifier(n_neighbors=k)\n",
        "    scores = cross_val_score(knn, X_train_normalized, y_train, cv=5, scoring='accuracy')\n",
        "    cv_scores.append(scores.mean())\n",
        "\n",
        "optimal_k = k_values[cv_scores.index(max(cv_scores))]\n",
        "\n",
        "# 10. Build the KNN classifier with the optimal k value\n",
        "knn = KNeighborsClassifier(n_neighbors=optimal_k)\n",
        "knn.fit(X_train_normalized, y_train)\n",
        "\n",
        "y_pred = knn.predict(X_test_normalized)\n",
        "\n",
        "num_testing_points = len(X_test_normalized)\n",
        "\n",
        "correct_predictions_by_class = [0, 0, 0]\n",
        "for i in range(num_testing_points):\n",
        "    if y_pred[i] == y_test[i]:\n",
        "        correct_predictions_by_class[int(y_pred[i]) - 1] += 1\n",
        "\n",
        "# Print the results\n",
        "print(\"Number of data points in the testing set:\", num_testing_points)\n",
        "for i in range(3):\n",
        "    print(f\"Number of correct predictions for class {i+1}: {correct_predictions_by_class[i]}\")\n"
      ]
    }
  ],
  "metadata": {
    "colab": {
      "provenance": []
    },
    "kernelspec": {
      "display_name": "Python 3",
      "language": "python",
      "name": "python3"
    },
    "language_info": {
      "codemirror_mode": {
        "name": "ipython",
        "version": 3
      },
      "file_extension": ".py",
      "mimetype": "text/x-python",
      "name": "python",
      "nbconvert_exporter": "python",
      "pygments_lexer": "ipython3",
      "version": "3.10.7"
    },
    "orig_nbformat": 4,
    "vscode": {
      "interpreter": {
        "hash": "b148fc9bfa8b60132af830e32e1690e4e023b803e92912df15b823b90141dda6"
      }
    }
  },
  "nbformat": 4,
  "nbformat_minor": 0
}
