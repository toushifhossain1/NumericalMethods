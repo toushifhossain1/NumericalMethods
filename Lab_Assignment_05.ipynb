{
 "cells": [
  {
   "cell_type": "markdown",
   "metadata": {},
   "source": [
    "#### **Find global minima point of a function:**\n",
    "In this exercise, you will implement the Newton-Raphson method to find the global minima point of the following function:\n",
    "\n",
    "$$f(x) = e^{x+4} + x^\\frac{2}{3} + 8\\sin(x)$$\n",
    "\n",
    "Local maxima / minima of a function occurs at the roots of the first derivative of the function. We can find the local minima point of a function by finding the roots of the first derivative of the function. So, we have to find the roots of the following function to get the local minima point of $f(x)$:\n",
    "$$\n",
    "\\begin{align*}\n",
    "f'(x) &= \\frac{d}{dx} \\left( e^{x+4} + x^\\frac{2}{3} + 8\\sin(x) \\right) \\\\ \\\\\n",
    "&= e^{x+4} + \\frac{2}{3}x^{-\\frac{1}{3}} + 8\\cos(x) \\\\\n",
    "\\end{align*}\n",
    "$$\n",
    "\n",
    "Follow the steps below to find the local minima point of $f(x)$:\n",
    "\n",
    "* Plot the graph for function $f{(x)}$\n",
    "\n",
    "* Use the graph to determine the range of $x$ where the global minimum point for function $f(x)$ can be found.\n",
    "\n",
    "* Choose 5 initial values of $x$ from the range where the global minimum point for function $f(x)$ can be found. For each initial value of $x$, use the Newton-Raphson method to find the global minimum point of $f(x)$. Use error tolerance, $\\epsilon = 0.001$ and maximum number of iterations, $N = 100$. Consider the following steps to implement the Newton-Raphson method:\n",
    "\n",
    "    * **Step 1:** Calculate the value of $f'(x)$ and $f''(x)$ for the given value of $x$.\n",
    "    * **Step 2:** Calculate the value of $x_{new} = x_{old} - \\frac{f'(x_{old})}{f''(x_{old})}$.\n",
    "    * **Step 3:** Check if the absolute relative approximate error, $\\epsilon_{abs} = \\left| \\frac{x_{new} - x_{old}}{x_{new}} \\right|$ is less than the error tolerance, $\\epsilon$. If yes, then stop the iteration and return the value of $x_{new}$. If no, then set $x_{old} = x_{new}$ and repeat the steps 1 and 2.\n",
    "    * **Step 4:** If the number of iterations exceeds the maximum number of iterations, $N$, then stop the iteration and return the value of $x_{new}$. If no, then repeat the steps 1 to 3.\n",
    "\n",
    "* For each stationary(minimum/maximum) point found in previous step, check if the point is a local minimum point by checking the value of $f''(x)$ at that point. If the value of $f''(x)$ is positive, then the point is a local minimum point.\n",
    "\n",
    "* Now, as you have found the local minima point of $f(x)$, find the global minima point of $f(x)$ by finding the local minima point with the smallest value of $f(x)$.\n",
    "\n",
    "* Find the value of the function $f(x)$ at the global minimum point found in previous step. The value should be close to $-4$. If the value is not close to $-4$, then repeat all the steps with different initial values of $x$.\n",
    "\n",
    "* Finally, plot the graph for function $f(x)$, its first derivative $f'(x)$ along with the local and global minima points found in previous steps. Mark the global minima point with a red circle and the local minima points with a blue circle."
   ]
  },
  {
   "cell_type": "code",
   "execution_count": 5,
   "metadata": {},
   "outputs": [
    {
     "name": "stderr",
     "output_type": "stream",
     "text": [
      "C:\\Users\\USer\\AppData\\Local\\Temp\\ipykernel_22228\\820077273.py:5: RuntimeWarning: invalid value encountered in scalar power\n",
      "  return np.where(x > 0, np.exp(x + 4) + x**(2/3) + 8 * np.sin(x), np.exp(x + 4) + 8 * np.sin(x))\n",
      "C:\\Users\\USer\\AppData\\Local\\Temp\\ipykernel_22228\\820077273.py:5: RuntimeWarning: invalid value encountered in power\n",
      "  return np.where(x > 0, np.exp(x + 4) + x**(2/3) + 8 * np.sin(x), np.exp(x + 4) + 8 * np.sin(x))\n"
     ]
    },
    {
     "data": {
      "image/png": "[encoded data removed]",
      "text/plain": [
       "<Figure size 640x480 with 1 Axes>"
      ]
     },
     "metadata": {},
     "output_type": "display_data"
    },
    {
     "name": "stdout",
     "output_type": "stream",
     "text": [
      "The global minima point of the function is -2.312640533680324\n"
     ]
    }
   ],
   "source": [
    "import matplotlib.pyplot as plt\n",
    "import numpy as np\n",
    "\n",
    "def f(x):\n",
    "    return np.where(x > 0, np.exp(x + 4) + x**(2/3) + 8 * np.sin(x), np.exp(x + 4) + 8 * np.sin(x))\n",
    "\n",
    "\n",
    "\n",
    "def f_prime(x):\n",
    "    if x > 0:\n",
    "        return np.exp(x + 4) + (2/3) * x**(-1/3) + 8 * np.cos(x)\n",
    "    else:\n",
    "        return np.exp(x + 4) + 8 * np.cos(x)\n",
    "\n",
    "def f_prime_prime(x):\n",
    "    if x > 0:\n",
    "        return np.exp(x + 4) - (2/9) * x**(-4/3) - 8 * np.sin(x)\n",
    "    else:\n",
    "        return np.exp(x + 4) - 8 * np.sin(x)\n",
    "\n",
    "def newton_raphson(x_init, epsilon, N):\n",
    "    x_old = x_init\n",
    "    x_new = 0\n",
    "    i = 0\n",
    "\n",
    "    if x_init == 0:\n",
    "        \n",
    "        return x_init\n",
    "\n",
    "    try:\n",
    "        while i < N:\n",
    "            x_new = x_old - f_prime(x_old) / f_prime_prime(x_old)\n",
    "\n",
    "            if np.abs(x_new - x_old) < epsilon:\n",
    "                break\n",
    "\n",
    "            x_old = x_new\n",
    "            i += 1\n",
    "    except ZeroDivisionError:\n",
    "        print(\"The initial value of x_init is zero.\")\n",
    "\n",
    "    return x_new\n",
    "\n",
    "x_init = [-1.5, -1, 0, 1, 1.5]\n",
    "epsilon = 0.001\n",
    "N = 100\n",
    "\n",
    "x_min = None\n",
    "f_min = np.inf\n",
    "\n",
    "for x_i in x_init:\n",
    "    x_new = newton_raphson(x_i, epsilon, N)\n",
    "    if x_new is None:\n",
    "        continue\n",
    "    f_new = f(x_new)\n",
    "\n",
    "    if f_new < f_min:\n",
    "        x_min = x_new\n",
    "        f_min = f_new\n",
    "\n",
    "x = np.linspace(-5, 5, 100)\n",
    "y = f(x)\n",
    "\n",
    "\n",
    "plt.plot(x, y)\n",
    "\n",
    "if x_min is not None:\n",
    "    x_min = np.array(x_min)\n",
    "    y_min = f(x_min)\n",
    "    plt.plot(x_min, y_min, \"ro\")\n",
    "\n",
    "plt.xlabel(\"x\")\n",
    "plt.ylabel(\"f(x)\")\n",
    "plt.title(\"Graph of function f(x)\")\n",
    "\n",
    "\n",
    "plt.xlim(-5, 5)\n",
    "plt.ylim(-5, 50)\n",
    "plt.show()\n",
    "\n",
    "if x_min is not None:\n",
    "    print(\"The global minima point of the function is\", x_min)\n",
    "\n",
    "\n"
   ]
  }
 ],
 "metadata": {
  "kernelspec": {
   "display_name": "Python 3",
   "language": "python",
   "name": "python3"
  },
  "language_info": {
   "codemirror_mode": {
    "name": "ipython",
    "version": 3
   },
   "file_extension": ".py",
   "mimetype": "text/x-python",
   "name": "python",
   "nbconvert_exporter": "python",
   "pygments_lexer": "ipython3",
   "version": "3.10.7"
  },
  "orig_nbformat": 4,
  "vscode": {
   "interpreter": {
    "hash": "b148fc9bfa8b60132af830e32e1690e4e023b803e92912df15b823b90141dda6"
   }
  }
 },
 "nbformat": 4,
 "nbformat_minor": 2
}
